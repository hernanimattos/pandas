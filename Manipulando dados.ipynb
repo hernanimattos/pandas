{
 "cells": [
  {
   "cell_type": "code",
   "execution_count": 2,
   "metadata": {},
   "outputs": [],
   "source": [
    "import pandas as pd;\n",
    "import numpy as np\n",
    "\n",
    "from pandas import Series, DataFrame"
   ]
  },
  {
   "cell_type": "code",
   "execution_count": 3,
   "metadata": {},
   "outputs": [
    {
     "data": {
      "text/html": [
       "<div>\n",
       "<style scoped>\n",
       "    .dataframe tbody tr th:only-of-type {\n",
       "        vertical-align: middle;\n",
       "    }\n",
       "\n",
       "    .dataframe tbody tr th {\n",
       "        vertical-align: top;\n",
       "    }\n",
       "\n",
       "    .dataframe thead th {\n",
       "        text-align: right;\n",
       "    }\n",
       "</style>\n",
       "<table border=\"1\" class=\"dataframe\">\n",
       "  <thead>\n",
       "    <tr style=\"text-align: right;\">\n",
       "      <th></th>\n",
       "      <th>coluna 1</th>\n",
       "      <th>coluna 2</th>\n",
       "      <th>coluna 3</th>\n",
       "      <th>coluna 4</th>\n",
       "      <th>coluna 5</th>\n",
       "      <th>coluna 6</th>\n",
       "    </tr>\n",
       "  </thead>\n",
       "  <tbody>\n",
       "    <tr>\n",
       "      <th>linha 1</th>\n",
       "      <td>0.882229</td>\n",
       "      <td>0.391697</td>\n",
       "      <td>0.471158</td>\n",
       "      <td>0.501679</td>\n",
       "      <td>0.313707</td>\n",
       "      <td>0.704250</td>\n",
       "    </tr>\n",
       "    <tr>\n",
       "      <th>linha 2</th>\n",
       "      <td>0.207167</td>\n",
       "      <td>0.281997</td>\n",
       "      <td>0.876350</td>\n",
       "      <td>0.807761</td>\n",
       "      <td>0.926413</td>\n",
       "      <td>0.437457</td>\n",
       "    </tr>\n",
       "    <tr>\n",
       "      <th>linha 3</th>\n",
       "      <td>0.225751</td>\n",
       "      <td>0.004427</td>\n",
       "      <td>0.355618</td>\n",
       "      <td>0.799969</td>\n",
       "      <td>0.982017</td>\n",
       "      <td>0.553222</td>\n",
       "    </tr>\n",
       "    <tr>\n",
       "      <th>linha 4</th>\n",
       "      <td>0.555497</td>\n",
       "      <td>0.051178</td>\n",
       "      <td>0.498428</td>\n",
       "      <td>0.292253</td>\n",
       "      <td>0.603892</td>\n",
       "      <td>0.519249</td>\n",
       "    </tr>\n",
       "    <tr>\n",
       "      <th>linha 5</th>\n",
       "      <td>0.868120</td>\n",
       "      <td>0.945863</td>\n",
       "      <td>0.242991</td>\n",
       "      <td>0.133571</td>\n",
       "      <td>0.616941</td>\n",
       "      <td>0.057392</td>\n",
       "    </tr>\n",
       "    <tr>\n",
       "      <th>linha 6</th>\n",
       "      <td>0.314372</td>\n",
       "      <td>0.187867</td>\n",
       "      <td>0.546482</td>\n",
       "      <td>0.217139</td>\n",
       "      <td>0.104839</td>\n",
       "      <td>0.691039</td>\n",
       "    </tr>\n",
       "  </tbody>\n",
       "</table>\n",
       "</div>"
      ],
      "text/plain": [
       "         coluna 1  coluna 2  coluna 3  coluna 4  coluna 5  coluna 6\n",
       "linha 1  0.882229  0.391697  0.471158  0.501679  0.313707  0.704250\n",
       "linha 2  0.207167  0.281997  0.876350  0.807761  0.926413  0.437457\n",
       "linha 3  0.225751  0.004427  0.355618  0.799969  0.982017  0.553222\n",
       "linha 4  0.555497  0.051178  0.498428  0.292253  0.603892  0.519249\n",
       "linha 5  0.868120  0.945863  0.242991  0.133571  0.616941  0.057392\n",
       "linha 6  0.314372  0.187867  0.546482  0.217139  0.104839  0.691039"
      ]
     },
     "execution_count": 3,
     "metadata": {},
     "output_type": "execute_result"
    }
   ],
   "source": [
    "indice = ['linha 1','linha 2', 'linha 3', 'linha 4','linha 5' ,'linha 6' ]\n",
    "colunas= ['coluna 1', 'coluna 2', 'coluna 3', 'coluna 4', 'coluna 5', 'coluna 6' ]\n",
    "\n",
    "data_frame = DataFrame(np.random.rand(36).reshape((6,6)), index=indice, columns=colunas)\n",
    "\n",
    "data_frame"
   ]
  },
  {
   "cell_type": "code",
   "execution_count": 6,
   "metadata": {},
   "outputs": [
    {
     "data": {
      "text/html": [
       "<div>\n",
       "<style scoped>\n",
       "    .dataframe tbody tr th:only-of-type {\n",
       "        vertical-align: middle;\n",
       "    }\n",
       "\n",
       "    .dataframe tbody tr th {\n",
       "        vertical-align: top;\n",
       "    }\n",
       "\n",
       "    .dataframe thead th {\n",
       "        text-align: right;\n",
       "    }\n",
       "</style>\n",
       "<table border=\"1\" class=\"dataframe\">\n",
       "  <thead>\n",
       "    <tr style=\"text-align: right;\">\n",
       "      <th></th>\n",
       "      <th>coluna 1</th>\n",
       "      <th>coluna 2</th>\n",
       "      <th>coluna 3</th>\n",
       "      <th>coluna 4</th>\n",
       "      <th>coluna 5</th>\n",
       "      <th>coluna 6</th>\n",
       "    </tr>\n",
       "  </thead>\n",
       "  <tbody>\n",
       "    <tr>\n",
       "      <th>linha 1</th>\n",
       "      <td>0.882229</td>\n",
       "      <td>0.391697</td>\n",
       "      <td>0.471158</td>\n",
       "      <td>0.501679</td>\n",
       "      <td>0.313707</td>\n",
       "      <td>0.704250</td>\n",
       "    </tr>\n",
       "    <tr>\n",
       "      <th>linha 2</th>\n",
       "      <td>0.207167</td>\n",
       "      <td>0.281997</td>\n",
       "      <td>0.876350</td>\n",
       "      <td>0.807761</td>\n",
       "      <td>0.926413</td>\n",
       "      <td>0.437457</td>\n",
       "    </tr>\n",
       "    <tr>\n",
       "      <th>linha 3</th>\n",
       "      <td>0.225751</td>\n",
       "      <td>NaN</td>\n",
       "      <td>0.355618</td>\n",
       "      <td>0.799969</td>\n",
       "      <td>0.982017</td>\n",
       "      <td>0.553222</td>\n",
       "    </tr>\n",
       "    <tr>\n",
       "      <th>linha 4</th>\n",
       "      <td>0.555497</td>\n",
       "      <td>NaN</td>\n",
       "      <td>0.498428</td>\n",
       "      <td>0.292253</td>\n",
       "      <td>0.603892</td>\n",
       "      <td>0.519249</td>\n",
       "    </tr>\n",
       "    <tr>\n",
       "      <th>linha 5</th>\n",
       "      <td>0.868120</td>\n",
       "      <td>0.945863</td>\n",
       "      <td>0.242991</td>\n",
       "      <td>NaN</td>\n",
       "      <td>0.616941</td>\n",
       "      <td>NaN</td>\n",
       "    </tr>\n",
       "    <tr>\n",
       "      <th>linha 6</th>\n",
       "      <td>0.314372</td>\n",
       "      <td>NaN</td>\n",
       "      <td>0.546482</td>\n",
       "      <td>0.217139</td>\n",
       "      <td>NaN</td>\n",
       "      <td>0.691039</td>\n",
       "    </tr>\n",
       "  </tbody>\n",
       "</table>\n",
       "</div>"
      ],
      "text/plain": [
       "         coluna 1  coluna 2  coluna 3  coluna 4  coluna 5  coluna 6\n",
       "linha 1  0.882229  0.391697  0.471158  0.501679  0.313707  0.704250\n",
       "linha 2  0.207167  0.281997  0.876350  0.807761  0.926413  0.437457\n",
       "linha 3  0.225751       NaN  0.355618  0.799969  0.982017  0.553222\n",
       "linha 4  0.555497       NaN  0.498428  0.292253  0.603892  0.519249\n",
       "linha 5  0.868120  0.945863  0.242991       NaN  0.616941       NaN\n",
       "linha 6  0.314372       NaN  0.546482  0.217139       NaN  0.691039"
      ]
     },
     "execution_count": 6,
     "metadata": {},
     "output_type": "execute_result"
    }
   ],
   "source": [
    "data_frame[data_frame> .2]"
   ]
  },
  {
   "cell_type": "code",
   "execution_count": 5,
   "metadata": {},
   "outputs": [
    {
     "data": {
      "text/plain": [
       "linha 1    0\n",
       "linha 2    1\n",
       "linha 3    2\n",
       "linha 4    3\n",
       "linha 5    4\n",
       "linha 6    5\n",
       "linha 7    6\n",
       "linha 8    7\n",
       "dtype: int64"
      ]
     },
     "execution_count": 5,
     "metadata": {},
     "output_type": "execute_result"
    }
   ],
   "source": [
    "indice = ['linha 1','linha 2', 'linha 3', 'linha 4','linha 5' ,'linha 6', 'linha 7', 'linha 8']\n",
    "\n",
    "series_obj = Series(np.arange(8), index=indice)\n",
    "series_obj\n"
   ]
  },
  {
   "cell_type": "code",
   "execution_count": 7,
   "metadata": {},
   "outputs": [
    {
     "data": {
      "text/plain": [
       "coluna 1    0\n",
       "coluna 2    0\n",
       "coluna 3    0\n",
       "coluna 4    0\n",
       "coluna 5    0\n",
       "coluna 6    0\n",
       "dtype: int64"
      ]
     },
     "execution_count": 7,
     "metadata": {},
     "output_type": "execute_result"
    }
   ],
   "source": []
  },
  {
   "cell_type": "code",
   "execution_count": null,
   "metadata": {},
   "outputs": [],
   "source": []
  }
 ],
 "metadata": {
  "kernelspec": {
   "display_name": "Python 3",
   "language": "python",
   "name": "python3"
  },
  "language_info": {
   "codemirror_mode": {
    "name": "ipython",
    "version": 3
   },
   "file_extension": ".py",
   "mimetype": "text/x-python",
   "name": "python",
   "nbconvert_exporter": "python",
   "pygments_lexer": "ipython3",
   "version": "3.7.6"
  }
 },
 "nbformat": 4,
 "nbformat_minor": 4
}
