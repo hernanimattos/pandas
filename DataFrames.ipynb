{
 "cells": [
  {
   "cell_type": "code",
   "execution_count": 4,
   "metadata": {},
   "outputs": [],
   "source": [
    "import numpy as np\n",
    "import pandas as pd\n",
    "\n",
    "from pandas import Series, DataFrame\n",
    "\n"
   ]
  },
  {
   "cell_type": "code",
   "execution_count": 5,
   "metadata": {},
   "outputs": [
    {
     "data": {
      "text/plain": [
       "array([0, 1, 2, 3, 4, 5, 6, 7])"
      ]
     },
     "execution_count": 5,
     "metadata": {},
     "output_type": "execute_result"
    }
   ],
   "source": [
    "dados = np.arange(8)\n",
    "dados\n",
    "\n",
    "# np.random.seed(25)"
   ]
  },
  {
   "cell_type": "code",
   "execution_count": 7,
   "metadata": {},
   "outputs": [
    {
     "data": {
      "text/plain": [
       "array([[0, 1],\n",
       "       [2, 3],\n",
       "       [4, 5],\n",
       "       [6, 7]])"
      ]
     },
     "execution_count": 7,
     "metadata": {},
     "output_type": "execute_result"
    }
   ],
   "source": [
    "# Reshape\n",
    "\n",
    "dados.reshape((4, 2))"
   ]
  },
  {
   "cell_type": "code",
   "execution_count": 9,
   "metadata": {},
   "outputs": [
    {
     "data": {
      "text/plain": [
       "linha 1    0\n",
       "linha 2    1\n",
       "linha 3    2\n",
       "linha 4    3\n",
       "linha 5    4\n",
       "linha 6    5\n",
       "linha 7    6\n",
       "linha 8    7\n",
       "dtype: int64"
      ]
     },
     "execution_count": 9,
     "metadata": {},
     "output_type": "execute_result"
    }
   ],
   "source": [
    "# Criando um Series..\n",
    "\n",
    "index = ['linha 1','linha 2', 'linha 3', 'linha 4','linha 5' ,'linha 6', 'linha 7', 'linha 8' ]\n",
    "\n",
    "series = Series(dados, index=index)\n",
    "series"
   ]
  },
  {
   "cell_type": "markdown",
   "metadata": {},
   "source": [
    "## # dados1 = np.random.seed(15)\n",
    "\n"
   ]
  },
  {
   "cell_type": "code",
   "execution_count": 15,
   "metadata": {},
   "outputs": [
    {
     "data": {
      "text/html": [
       "<div>\n",
       "<style scoped>\n",
       "    .dataframe tbody tr th:only-of-type {\n",
       "        vertical-align: middle;\n",
       "    }\n",
       "\n",
       "    .dataframe tbody tr th {\n",
       "        vertical-align: top;\n",
       "    }\n",
       "\n",
       "    .dataframe thead th {\n",
       "        text-align: right;\n",
       "    }\n",
       "</style>\n",
       "<table border=\"1\" class=\"dataframe\">\n",
       "  <thead>\n",
       "    <tr style=\"text-align: right;\">\n",
       "      <th></th>\n",
       "      <th>coluna 1</th>\n",
       "      <th>coluna 2</th>\n",
       "      <th>coluna 3</th>\n",
       "      <th>coluna 4</th>\n",
       "      <th>coluna 5</th>\n",
       "      <th>coluna 6</th>\n",
       "    </tr>\n",
       "  </thead>\n",
       "  <tbody>\n",
       "    <tr>\n",
       "      <th>linha 1</th>\n",
       "      <td>0.678375</td>\n",
       "      <td>0.546339</td>\n",
       "      <td>0.009044</td>\n",
       "      <td>0.774770</td>\n",
       "      <td>0.121425</td>\n",
       "      <td>0.517394</td>\n",
       "    </tr>\n",
       "    <tr>\n",
       "      <th>linha 2</th>\n",
       "      <td>0.665752</td>\n",
       "      <td>0.762913</td>\n",
       "      <td>0.940879</td>\n",
       "      <td>0.123988</td>\n",
       "      <td>0.209996</td>\n",
       "      <td>0.365368</td>\n",
       "    </tr>\n",
       "    <tr>\n",
       "      <th>linha 3</th>\n",
       "      <td>0.401288</td>\n",
       "      <td>0.590005</td>\n",
       "      <td>0.993915</td>\n",
       "      <td>0.611509</td>\n",
       "      <td>0.683021</td>\n",
       "      <td>0.096211</td>\n",
       "    </tr>\n",
       "    <tr>\n",
       "      <th>linha 4</th>\n",
       "      <td>0.434022</td>\n",
       "      <td>0.129159</td>\n",
       "      <td>0.215403</td>\n",
       "      <td>0.850066</td>\n",
       "      <td>0.369989</td>\n",
       "      <td>0.228212</td>\n",
       "    </tr>\n",
       "    <tr>\n",
       "      <th>linha 5</th>\n",
       "      <td>0.859933</td>\n",
       "      <td>0.465751</td>\n",
       "      <td>0.678117</td>\n",
       "      <td>0.377876</td>\n",
       "      <td>0.716434</td>\n",
       "      <td>0.365020</td>\n",
       "    </tr>\n",
       "    <tr>\n",
       "      <th>linha 6</th>\n",
       "      <td>0.551522</td>\n",
       "      <td>0.586269</td>\n",
       "      <td>0.115388</td>\n",
       "      <td>0.159536</td>\n",
       "      <td>0.745438</td>\n",
       "      <td>0.472342</td>\n",
       "    </tr>\n",
       "  </tbody>\n",
       "</table>\n",
       "</div>"
      ],
      "text/plain": [
       "         coluna 1  coluna 2  coluna 3  coluna 4  coluna 5  coluna 6\n",
       "linha 1  0.678375  0.546339  0.009044  0.774770  0.121425  0.517394\n",
       "linha 2  0.665752  0.762913  0.940879  0.123988  0.209996  0.365368\n",
       "linha 3  0.401288  0.590005  0.993915  0.611509  0.683021  0.096211\n",
       "linha 4  0.434022  0.129159  0.215403  0.850066  0.369989  0.228212\n",
       "linha 5  0.859933  0.465751  0.678117  0.377876  0.716434  0.365020\n",
       "linha 6  0.551522  0.586269  0.115388  0.159536  0.745438  0.472342"
      ]
     },
     "execution_count": 15,
     "metadata": {},
     "output_type": "execute_result"
    }
   ],
   "source": [
    "\n",
    "indice = ['linha 1','linha 2', 'linha 3', 'linha 4','linha 5' ,'linha 6' ]\n",
    "colunas= ['coluna 1', 'coluna 2', 'coluna 3', 'coluna 4', 'coluna 5', 'coluna 6' ]\n",
    "\n",
    "data_frame = DataFrame(np.random.rand(36).reshape((6,6)), index=indice, columns=colunas)\n",
    "\n",
    "data_frame"
   ]
  },
  {
   "cell_type": "code",
   "execution_count": 16,
   "metadata": {},
   "outputs": [
    {
     "data": {
      "text/html": [
       "<div>\n",
       "<style scoped>\n",
       "    .dataframe tbody tr th:only-of-type {\n",
       "        vertical-align: middle;\n",
       "    }\n",
       "\n",
       "    .dataframe tbody tr th {\n",
       "        vertical-align: top;\n",
       "    }\n",
       "\n",
       "    .dataframe thead th {\n",
       "        text-align: right;\n",
       "    }\n",
       "</style>\n",
       "<table border=\"1\" class=\"dataframe\">\n",
       "  <thead>\n",
       "    <tr style=\"text-align: right;\">\n",
       "      <th></th>\n",
       "      <th>coluna 1</th>\n",
       "      <th>coluna 2</th>\n",
       "    </tr>\n",
       "  </thead>\n",
       "  <tbody>\n",
       "    <tr>\n",
       "      <th>linha 1</th>\n",
       "      <td>0.678375</td>\n",
       "      <td>0.546339</td>\n",
       "    </tr>\n",
       "    <tr>\n",
       "      <th>linha 2</th>\n",
       "      <td>0.665752</td>\n",
       "      <td>0.762913</td>\n",
       "    </tr>\n",
       "  </tbody>\n",
       "</table>\n",
       "</div>"
      ],
      "text/plain": [
       "         coluna 1  coluna 2\n",
       "linha 1  0.678375  0.546339\n",
       "linha 2  0.665752  0.762913"
      ]
     },
     "execution_count": 16,
     "metadata": {},
     "output_type": "execute_result"
    }
   ],
   "source": [
    "filter_df = data_frame.loc[['linha 1', 'linha 2'], ['coluna 1', 'coluna 2']]\n",
    "filter_df\n"
   ]
  },
  {
   "cell_type": "code",
   "execution_count": 17,
   "metadata": {},
   "outputs": [
    {
     "data": {
      "text/plain": [
       "linha 1    0\n",
       "linha 2    1\n",
       "linha 3    2\n",
       "linha 4    3\n",
       "linha 5    4\n",
       "linha 6    5\n",
       "linha 7    6\n",
       "dtype: int64"
      ]
     },
     "execution_count": 17,
     "metadata": {},
     "output_type": "execute_result"
    }
   ],
   "source": [
    "series['linha 1': 'linha 7']"
   ]
  },
  {
   "cell_type": "code",
   "execution_count": null,
   "metadata": {},
   "outputs": [],
   "source": []
  }
 ],
 "metadata": {
  "kernelspec": {
   "display_name": "Python 3",
   "language": "python",
   "name": "python3"
  },
  "language_info": {
   "codemirror_mode": {
    "name": "ipython",
    "version": 3
   },
   "file_extension": ".py",
   "mimetype": "text/x-python",
   "name": "python",
   "nbconvert_exporter": "python",
   "pygments_lexer": "ipython3",
   "version": "3.7.6"
  }
 },
 "nbformat": 4,
 "nbformat_minor": 4
}
